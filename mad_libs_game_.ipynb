{
  "nbformat": 4,
  "nbformat_minor": 0,
  "metadata": {
    "colab": {
      "provenance": [],
      "authorship_tag": "ABX9TyNtUcmiULbp+iEjYgYHmWm8",
      "include_colab_link": true
    },
    "kernelspec": {
      "name": "python3",
      "display_name": "Python 3"
    },
    "language_info": {
      "name": "python"
    }
  },
  "cells": [
    {
      "cell_type": "markdown",
      "metadata": {
        "id": "view-in-github",
        "colab_type": "text"
      },
      "source": [
        "<a href=\"https://colab.research.google.com/github/anas9011/Colab-Assignment/blob/main/mad_libs_game_.ipynb\" target=\"_parent\"><img src=\"https://colab.research.google.com/assets/colab-badge.svg\" alt=\"Open In Colab\"/></a>"
      ]
    },
    {
      "cell_type": "markdown",
      "source": [],
      "metadata": {
        "id": "DCmHZmkVWE8w"
      }
    },
    {
      "cell_type": "markdown",
      "source": [
        "# **Mad Libs Game In Python**"
      ],
      "metadata": {
        "id": "8ZHH1tGPWPrE"
      }
    },
    {
      "cell_type": "code",
      "source": [
        "# user se input lejiya\n",
        "name = input (\"Enter the boy name: \")\n",
        "programing_language = input (\"Enter the programing language (e.g: python , next.js , typescript , html): \")\n",
        "mentor = input (\"Enter the mentor name: \")\n",
        "\n",
        "#story created\n",
        "print(\"And so, his journey continues...!\")"
      ],
      "metadata": {
        "colab": {
          "base_uri": "https://localhost:8080/"
        },
        "id": "CyTSSwVlX7Y6",
        "outputId": "ffb3b7f1-bdc5-408c-901f-e5bde0f0ee2e"
      },
      "execution_count": null,
      "outputs": [
        {
          "output_type": "stream",
          "name": "stdout",
          "text": [
            "Enter the boy name: anus\n",
            "Enter the programing language (e.g: python , next.js , typescript , html): typescript\n",
            "Enter the mentor name: naseeb\n",
            "And so, his journey continues...!\n"
          ]
        }
      ]
    }
  ]
}